{
 "cells": [
  {
   "cell_type": "code",
   "execution_count": 25,
   "metadata": {},
   "outputs": [],
   "source": [
    "\n",
    "import pandas as pd\n",
    "import numpy as np\n",
    "from pprint import pprint"
   ]
  },
  {
   "cell_type": "code",
   "execution_count": 26,
   "metadata": {
    "scrolled": true
   },
   "outputs": [],
   "source": [
    "dataset = pd.read_csv('train.csv', delimiter=',',dtype=int,names=['wesley','romulan','poetry', 'honor','tea','barclay','class'])\n",
    "test_dataset = pd.read_csv('train.csv',delimiter=',',dtype=int, names=['wesley','romulan','poetry', 'honor','tea','barclay','class'])\n"
   ]
  },
  {
   "cell_type": "code",
   "execution_count": 27,
   "metadata": {},
   "outputs": [],
   "source": [
    "def entropy(target_col):\n",
    "    \n",
    "    elements,counts = np.unique(target_col,return_counts = True)\n",
    "    entropy = np.sum([(-counts[i]/np.sum(counts))*np.log2(counts[i]/np.sum(counts)) for i in range(len(elements))])\n",
    "    return entropy"
   ]
  },
  {
   "cell_type": "code",
   "execution_count": 28,
   "metadata": {},
   "outputs": [],
   "source": [
    "def InfoGain(data,split_attribute_name,target_name=\"class\"):\n",
    "    \n",
    "    total_entropy = entropy(data[target_name])\n",
    "    \n",
    "     \n",
    "    vals,counts= np.unique(data[split_attribute_name],return_counts=True)\n",
    "    \n",
    "    \n",
    "    Weighted_Entropy = np.sum([(counts[i]/np.sum(counts))*entropy(data.where(data[split_attribute_name]==vals[i]).dropna()[target_name]) for i in range(len(vals))])\n",
    "    \n",
    "    \n",
    "    Information_Gain = total_entropy - Weighted_Entropy\n",
    "    return Information_Gain\n",
    "       "
   ]
  },
  {
   "cell_type": "code",
   "execution_count": 29,
   "metadata": {},
   "outputs": [],
   "source": [
    "def ID3(data,originaldata,features,target_attribute_name=\"class\",parent_node_class = None):\n",
    "    \n",
    "    if len(np.unique(data[target_attribute_name])) <= 1:\n",
    "        return int(np.unique(data[target_attribute_name])[0])\n",
    "    \n",
    "    \n",
    "    elif len(data)==0:\n",
    "        return int(np.unique(originaldata[target_attribute_name])[np.argmax(np.unique(originaldata[target_attribute_name],return_counts=True)[1])])\n",
    "    \n",
    "    \n",
    "    \n",
    "    elif len(features) ==0:\n",
    "        return int(parent_node_class)\n",
    "    \n",
    "    \n",
    "    \n",
    "    else:\n",
    "        \n",
    "        parent_node_class = np.unique(data[target_attribute_name])[np.argmax(np.unique(data[target_attribute_name],return_counts=True)[1])]\n",
    "        \n",
    "        \n",
    "        item_values = [InfoGain(data,feature,target_attribute_name) for feature in features] #Return the information gain values for the features in the dataset\n",
    "        best_feature_index = int(np.argmax(item_values))\n",
    "        best_feature = features[best_feature_index]\n",
    "        \n",
    "        \n",
    "        tree = {best_feature:{}}\n",
    "        \n",
    "        \n",
    "     \n",
    "        features = [i for i in features if i != best_feature]\n",
    "        \n",
    "        \n",
    "        for value in np.unique(data[best_feature]):\n",
    "            value = int(value)\n",
    "        \n",
    "            sub_data = data.where(data[best_feature] == value).dropna()\n",
    "            \n",
    "            subtree = ID3(sub_data,dataset,features,target_attribute_name,parent_node_class)\n",
    "            \n",
    "            tree[best_feature][value] = subtree\n",
    "            \n",
    "        return(tree)    "
   ]
  },
  {
   "cell_type": "code",
   "execution_count": 30,
   "metadata": {},
   "outputs": [],
   "source": [
    "def predict(query,tree,default = 1):\n",
    "    for key in list(query.keys()):\n",
    "        if key in list(tree.keys()):\n",
    "        \n",
    "            try:\n",
    "                result = tree[key][query[key]] \n",
    "            except:\n",
    "                return default\n",
    "  \n",
    "            \n",
    "            result = tree[key][query[key]]\n",
    "            \n",
    "            if isinstance(result,dict):\n",
    "                return predict(query,result)\n",
    "            else:\n",
    "                return result\n",
    "        \n",
    "        "
   ]
  },
  {
   "cell_type": "code",
   "execution_count": 31,
   "metadata": {},
   "outputs": [],
   "source": [
    "def train_test_split(dataset):\n",
    "    count=100\n",
    "    #training_data = dataset.iloc[:600].reset_index(drop=True)#We drop the index respectively relabel the index\n",
    "    training_data = dataset.reset_index(drop=True)#We drop the index respectively relabel the index\n",
    "    \n",
    "    testing_data = test_dataset.reset_index(drop=True)\n",
    "    return training_data,testing_data\n",
    "training_data = train_test_split(dataset)[0]\n",
    "testing_data = train_test_split(dataset)[1] \n",
    "def test(data,tree):\n",
    "    \n",
    "    queries = data.iloc[:,:-1].to_dict(orient = \"records\")\n",
    "    \n",
    "  \n",
    "    predicted = pd.DataFrame(columns=[\"predicted\"]) \n",
    "    \n",
    "    \n",
    "    for i in range(len(data)):\n",
    "        predicted.loc[i,\"predicted\"] = predict(queries[i],tree,1.0) \n",
    "    print('******Accuracy is:**** ',(np.sum(predicted[\"predicted\"] == data[\"class\"])/len(data))*100,'%')\n",
    "\n",
    "    "
   ]
  },
  {
   "cell_type": "code",
   "execution_count": 32,
   "metadata": {},
   "outputs": [
    {
     "name": "stdout",
     "output_type": "stream",
     "text": [
      "{'tea': {0: {'barclay': {0: {'romulan': {0: {'wesley': {0: {'honor': {0: {'poetry': {0: 0,\n",
      "                                                                                     1: 0}},\n",
      "                                                                      1: {'poetry': {0: 0,\n",
      "                                                                                     1: 0}}}},\n",
      "                                                        1: {'honor': {0: {'poetry': {0: 0,\n",
      "                                                                                     1: 0}},\n",
      "                                                                      1: 0}}}},\n",
      "                                         1: {'honor': {0: {'poetry': {0: 0,\n",
      "                                                                      1: {'wesley': {0: 0,\n",
      "                                                                                     1: 0}}}},\n",
      "                                                       1: {'wesley': {0: {'poetry': {0: 0,\n",
      "                                                                                     1: 0}},\n",
      "                                                                      1: {'poetry': {0: 0,\n",
      "                                                                                     1: 0}}}}}}}},\n",
      "                         1: {'honor': {0: {'romulan': {0: {'poetry': {0: {'wesley': {0: 0,\n",
      "                                                                                     1: 0}},\n",
      "                                                                      1: {'wesley': {0: 0,\n",
      "                                                                                     1: 0}}}},\n",
      "                                                       1: {'wesley': {0: {'poetry': {0: 0,\n",
      "                                                                                     1: 0}},\n",
      "                                                                      1: {'poetry': {0: 0,\n",
      "                                                                                     1: 0}}}}}},\n",
      "                                       1: {'romulan': {0: {'wesley': {0: {'poetry': {0: 0,\n",
      "                                                                                     1: 0}},\n",
      "                                                                      1: {'poetry': {0: 0,\n",
      "                                                                                     1: 0}}}},\n",
      "                                                       1: {'wesley': {0: {'poetry': {0: 1,\n",
      "                                                                                     1: 1}},\n",
      "                                                                      1: {'poetry': {0: 0,\n",
      "                                                                                     1: 0}}}}}}}}}},\n",
      "         1: {'barclay': {0: {'poetry': {0: {'honor': {0: {'wesley': {0: {'romulan': {0: 0,\n",
      "                                                                                     1: 0}},\n",
      "                                                                     1: {'romulan': {0: 0,\n",
      "                                                                                     1: 0}}}},\n",
      "                                                      1: {'wesley': {0: {'romulan': {0: 1,\n",
      "                                                                                     1: 1}},\n",
      "                                                                     1: {'romulan': {0: 0,\n",
      "                                                                                     1: 0}}}}}},\n",
      "                                        1: {'romulan': {0: {'honor': {0: {'wesley': {0: 1,\n",
      "                                                                                     1: 1}},\n",
      "                                                                      1: 1}},\n",
      "                                                        1: {'wesley': {0: {'honor': {0: 1,\n",
      "                                                                                     1: 1}},\n",
      "                                                                       1: {'honor': {0: 0,\n",
      "                                                                                     1: 0}}}}}}}},\n",
      "                         1: {'honor': {0: {'romulan': {0: {'poetry': {0: {'wesley': {0: 0,\n",
      "                                                                                     1: 0}},\n",
      "                                                                      1: 0}},\n",
      "                                                       1: {'wesley': {0: {'poetry': {0: 0,\n",
      "                                                                                     1: 0}},\n",
      "                                                                      1: 0}}}},\n",
      "                                       1: {'wesley': {0: {'romulan': {0: {'poetry': {0: 0,\n",
      "                                                                                     1: 1}},\n",
      "                                                                      1: {'poetry': {0: 0,\n",
      "                                                                                     1: 0}}}},\n",
      "                                                      1: {'romulan': {0: {'poetry': {0: 0,\n",
      "                                                                                     1: 0}},\n",
      "                                                                      1: {'poetry': {0: 0,\n",
      "                                                                                     1: 0}}}}}}}}}}}}\n",
      "******Accuracy is:****  87.625 %\n"
     ]
    }
   ],
   "source": [
    "tree = ID3(training_data,training_data,training_data.columns[:-1])\n",
    "pprint(tree)\n",
    "test(testing_data,tree)"
   ]
  }
 ],
 "metadata": {
  "kernelspec": {
   "display_name": "Python 3",
   "language": "python",
   "name": "python3"
  },
  "language_info": {
   "codemirror_mode": {
    "name": "ipython",
    "version": 3
   },
   "file_extension": ".py",
   "mimetype": "text/x-python",
   "name": "python",
   "nbconvert_exporter": "python",
   "pygments_lexer": "ipython3",
   "version": "3.7.3"
  }
 },
 "nbformat": 4,
 "nbformat_minor": 2
}
